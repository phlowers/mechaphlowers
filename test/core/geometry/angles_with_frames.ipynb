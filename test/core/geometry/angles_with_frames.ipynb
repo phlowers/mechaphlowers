{
 "cells": [
  {
   "cell_type": "code",
   "execution_count": 1,
   "id": "746a9d7f",
   "metadata": {},
   "outputs": [],
   "source": [
    "import numpy as np\n",
    "import pandas as pd\n"
   ]
  },
  {
   "cell_type": "markdown",
   "id": "6c04df07",
   "metadata": {},
   "source": [
    "# Line angles\n"
   ]
  },
  {
   "cell_type": "code",
   "execution_count": 2,
   "id": "9fd9ef2c",
   "metadata": {},
   "outputs": [],
   "source": [
    "from mechaphlowers.core.geometry.points import Points, Frame\n",
    "from mechaphlowers.core.geometry.rotation import rotation_quaternion_same_axis, rotation_quaternion\n",
    "from mechaphlowers.entities.arrays import SectionArray\n"
   ]
  },
  {
   "cell_type": "code",
   "execution_count": 3,
   "id": "677ce8ac",
   "metadata": {},
   "outputs": [],
   "source": [
    "section_array = SectionArray(\n",
    "\tpd.DataFrame(\n",
    "\t\t{\n",
    "\t\t\t\"name\": np.array([\"support 1\", \"2\", \"three\", \"support 4\"]),\n",
    "\t\t\t\"suspension\": np.array([False, True, True, False]),\n",
    "\t\t\t\"conductor_attachment_altitude\": np.array([30, 40, 60, 70]),\n",
    "\t\t\t\"crossarm_length\": np.array([-40, -40, -40, -40]),\n",
    "\t\t\t\"line_angle\": np.array([0, -45, -30, 60]),\n",
    "\t\t\t\"insulator_length\": np.array([0, 5, 10, 0]),\n",
    "\t\t\t\"span_length\": np.array([500, 500, 500, np.nan]),\n",
    "\t\t}\n",
    "\t)\n",
    ")\n",
    "section_array.sagging_parameter = 2000\n",
    "section_array.sagging_temperature = 15"
   ]
  },
  {
   "cell_type": "markdown",
   "id": "96dc768e",
   "metadata": {},
   "source": [
    "## First method: using projections to calculate coordinates"
   ]
  },
  {
   "cell_type": "code",
   "execution_count": 4,
   "id": "bf5448d0",
   "metadata": {},
   "outputs": [],
   "source": [
    "class LineAngleProjection:\n",
    "\tdef __init__(self, section_array: SectionArray):\n",
    "\t\tself.section_array = section_array\n",
    "\n",
    "\tdef project_x_right(\n",
    "\t\tself,\n",
    "\t\tcrossarm_length: np.float64,\n",
    "\t\tline_angle: np.float64,\n",
    "\t\tdep_x: np.float64,\n",
    "\t\tdep_y: np.float64,\n",
    "\t):\n",
    "\t\treturn (-crossarm_length + dep_y) * np.sin(line_angle / 2) + dep_x * np.cos(line_angle / 2)\n",
    "\n",
    "\tdef project_x_left(\n",
    "\t\tself,\n",
    "\t\tcrossarm_length: np.float64,\n",
    "\t\tline_angle: np.float64,\n",
    "\t\tdep_x: np.float64,\n",
    "\t\tdep_y: np.float64,\n",
    "\t):\n",
    "\t\treturn (-crossarm_length + dep_y) * np.sin(-line_angle / 2) - dep_x * np.cos(-line_angle / 2)\n",
    "\t\t\n",
    "\n",
    "\tdef project_y_right(\n",
    "\t\tself,\n",
    "\t\tcrossarm_length: np.float64,\n",
    "\t\tline_angle: np.float64,\n",
    "\t\tdep_x: np.float64,\n",
    "\t\tdep_y: np.float64,\n",
    "\t):\n",
    "\t\treturn (-crossarm_length + dep_y) * np.cos(line_angle / 2) + dep_x * np.sin(line_angle / 2)\n",
    "\n",
    "\tdef project_y_left(\n",
    "\t\tself,\n",
    "\t\tcrossarm_length: np.float64,\n",
    "\t\tline_angle: np.float64,\n",
    "\t\tdep_x: np.float64,\n",
    "\t\tdep_y: np.float64,\n",
    "\t):\n",
    "\t\treturn (-crossarm_length + dep_y) * np.cos(-line_angle / 2) - dep_x * np.sin(-line_angle / 2)\n",
    "\t\t\n",
    "\t\n",
    "\n",
    "\tdef get_new_span_lengths(\n",
    "\t\tself,\n",
    "\t):\n",
    "\t\tspan_length = self.section_array.data.span_length.to_numpy()\n",
    "\t\tcrossarm_length = self.section_array.data.crossarm_length.to_numpy()\n",
    "\t\tline_angle = self.section_array.data.line_angle.to_numpy()\n",
    "\t\tline_angle_radians = np.radians(line_angle)\n",
    "\t\tnew_span_lengths = []\n",
    "\t\tlenghts_left = []\n",
    "\t\tlengths_right = []\n",
    "\t\tfor index in range(len(span_length) - 1):\n",
    "\t\t\tcurrent_span_length = span_length[index]\n",
    "\t\t\tcurrent_crossarm_length = crossarm_length[index]\n",
    "\t\t\tcurrent_line_angle = line_angle_radians[index]\n",
    "\t\t\tnext_crossarm_length = crossarm_length[index + 1]\n",
    "\t\t\tnext_line_angle = line_angle_radians[index + 1]\n",
    "\t\t\t# coords of the first support\n",
    "\t\t\tx_left = self.project_x_left(current_crossarm_length, current_line_angle, 0, 0)\n",
    "\t\t\ty_left = self.project_y_left(current_crossarm_length, current_line_angle, 0, 0)\n",
    "\t\t\t# coords of the second support\n",
    "\t\t\tx_right = self.project_x_right(next_crossarm_length, next_line_angle, 0, 0)\n",
    "\t\t\ty_right = self.project_y_right(next_crossarm_length, next_line_angle, 0, 0)\n",
    "\t\t\tlenghts_left.append(np.array([x_left, y_left]))\n",
    "\t\t\tlengths_right.append(np.array([x_right, y_right]))\n",
    "\t\t\tx_length = current_span_length - (x_right - x_left)\n",
    "\t\t\t# sign may be wrong but doesn't matter here\n",
    "\t\t\ty_length = y_right - y_left\n",
    "\t\t\ta_chain = (x_length ** 2 + y_length ** 2) ** 0.5\n",
    "\t\t\tnew_span_lengths.append(a_chain)\n",
    "\t\tnew_span_lengths.append(np.nan)\n",
    "\t\tprint(\"lengths left:\\n\", np.array(lenghts_left))\n",
    "\t\tprint(\"lengths right:\\n\", np.array(lengths_right))\n",
    "\t\treturn np.array(new_span_lengths)\n",
    "\t\n"
   ]
  },
  {
   "cell_type": "code",
   "execution_count": 5,
   "id": "3b9f5f3c",
   "metadata": {},
   "outputs": [
    {
     "name": "stdout",
     "output_type": "stream",
     "text": [
      "lengths left:\n",
      " [[-0.         40.        ]\n",
      " [15.30733729 36.9551813 ]\n",
      " [10.3527618  38.63703305]]\n",
      "lengths right:\n",
      " [[-15.30733729  36.9551813 ]\n",
      " [-10.3527618   38.63703305]\n",
      " [ 20.          34.64101615]]\n"
     ]
    },
    {
     "data": {
      "text/plain": [
       "array([515.31633274, 525.66278964, 490.36904384,          nan])"
      ]
     },
     "execution_count": 5,
     "metadata": {},
     "output_type": "execute_result"
    }
   ],
   "source": [
    "projection_model = LineAngleProjection(section_array)\n",
    "projection_model.get_new_span_lengths()"
   ]
  },
  {
   "cell_type": "markdown",
   "id": "455270d6",
   "metadata": {},
   "source": [
    "## Second method: using rotation module to avoid using projections"
   ]
  },
  {
   "cell_type": "code",
   "execution_count": 15,
   "id": "6c55bb1e",
   "metadata": {},
   "outputs": [],
   "source": [
    "\n",
    "class LineAngleRotationQuaternion:\n",
    "\tdef __init__(self, section_array: SectionArray):\n",
    "\t\tself.section_array = section_array\n",
    "\t\tself.init_frames()\n",
    "\n",
    "\tdef init_frames(self):\n",
    "\t\tspan_length = section_array.data.span_length.to_numpy()\n",
    "\t\tline_angle = self.section_array.data.line_angle.to_numpy()\n",
    "\t\tcoords_origin = np.zeros((span_length.size, 3))\n",
    "\t\tframe = Frame(coords_origin)\n",
    "\t\tnb_supports = len(span_length)\n",
    "\t\tfor support_index in range(nb_supports - 1):\n",
    "\t\t\ttranslation_current_span = np.array([[span_length[support_index], 0, 0]])\n",
    "\t\t\ttranslation_needed = np.repeat(translation_current_span, nb_supports-(support_index + 1), axis=0)\n",
    "\t\t\ttranslation_vector = np.concat((np.zeros((support_index + 1, 3)), translation_needed))\n",
    "\t\t\tframe.translate_current(translation_vector)\n",
    "\t\t\trotation_needed = np.repeat(np.array([line_angle[support_index + 1]]), nb_supports-(support_index + 1))\n",
    "\t\t\trotation_angles =  np.concat((np.zeros((support_index + 1,)), rotation_needed))\n",
    "\t\t\tframe.rotate_same_axis(rotation_angles, np.array([0, 0, 1]))\n",
    "\n",
    "\t\tself.frame = frame\n",
    "\n",
    "\t# TODO\n",
    "\tdef attachment_coords_left(\n",
    "\t\tself,\n",
    "\t) -> Points:\n",
    "\t\tcrossarm_length = self.section_array.data.crossarm_length.to_numpy()\n",
    "\t\tline_angle = self.section_array.data.line_angle.to_numpy()\n",
    "\t\tconductor_attachment_altitude = self.section_array.data.conductor_attachment_altitude.to_numpy()\n",
    "\t\t# create point before rotation: point at the end of the chain. Coords considering arm + chain\n",
    "\t\t# need to create frames properly:\n",
    "\t\t# best way: use relative transformations from previous frame \n",
    "\n",
    "\t\tcoords_points_arm = np.zeros((crossarm_length.size, 1, 3))\n",
    "\t\tpoints_left = Points(coords_points_arm, self.frame)\n",
    "\t\t# use translation method instead\n",
    "\t\tpoints_left.coords[:,:,1] = -crossarm_length[:, np.newaxis]\n",
    "\t\tpoints_left.coords[:,:,2] = conductor_attachment_altitude[:, np.newaxis]\n",
    "\n",
    "\t\n",
    "\t\t# [[0, crossarm_length_0, altitude_0],\n",
    "\t\t#  [0, crossarm_length_1, altitude_1],\n",
    "\t\t# ...\n",
    "\t\t# ]\n",
    "\t\trotation_axis = np.array([0,0,1])\n",
    "\t\tpoints_left.rotate_same_axis(-line_angle/2, rotation_axis)\n",
    "\t\tpoints_attachment = self.coord_with_suspension_insulators(points_left)\n",
    "\t\treturn points_attachment\n",
    "\t\n",
    "\n",
    "\tdef attachment_coords_right(\n",
    "\t\tself,\n",
    "\t):\n",
    "\t\t# this should return the coords of the current support but considered in the plane of the previous one\n",
    "\t\tspan_length = self.section_array.data.span_length.to_numpy()\n",
    "\t\trolled_span_length = np.roll(span_length,1)\n",
    "\t\tcrossarm_length = self.section_array.data.crossarm_length.to_numpy()\n",
    "\t\tline_angle = self.section_array.data.line_angle.to_numpy()\n",
    "\t\tconductor_attachment_altitude = self.section_array.data.conductor_attachment_altitude.to_numpy()\n",
    "\t\tcoords_before_rot = np.zeros((crossarm_length.size, 3))\n",
    "\t\tcoords_before_rot[:,1] = -crossarm_length\n",
    "\t\tcoords_before_rot[:,2] = conductor_attachment_altitude\n",
    "\t\t# [[span_length_0, crossarm_length_0, altitude_0], \n",
    "\t\t#  [span_length_1, crossarm_length_1, altitude_1],\n",
    "\t\t# ...\n",
    "\t\t# ]\n",
    "\t\trotation_axis = np.array([0,0,1])\n",
    "\n",
    "\n",
    "\t\tcoords_rotated = rotation_quaternion_same_axis(coords_before_rot, line_angle/2, rotation_axis)\n",
    "\t\tcoord_attachment = self.coord_with_suspension_insulators(coords_rotated)\n",
    "\n",
    "\n",
    "\t\tcoord_attachment[:,0] += rolled_span_length\n",
    "\n",
    "\t\treturn coord_attachment\n",
    "\t\n",
    "\n",
    "\tdef coord_with_suspension_insulators(\n",
    "\t\tself,\n",
    "\t\tpoints_end_of_crossarm: Points,\n",
    "\t) -> Points:\n",
    "\t\t# we assure suspension chains are vertical for now\n",
    "\t\t# use translation instead\n",
    "\t\tpoints_end_of_crossarm.coords[:,2] -= self.section_array.data.insulator_length.to_numpy()\n",
    "\t\treturn points_end_of_crossarm\n",
    "\n",
    "\n",
    "\tdef new_span_length(self):\n",
    "\t\tcoords_supports_left = self.attachment_coords_left()\n",
    "\t\tcoords_supports_right = self.attachment_coords_right()\n",
    "\t\tnew_span_lengths = []\n",
    "\t\tfor index in range(len(coords_supports_left) - 1):\n",
    "\t\t\tx_left, y_left = coords_supports_left[index][0:2]\n",
    "\t\t\tx_right, y_right = coords_supports_right[index  + 1][0:2]\n",
    "\t\t\tspan_length = ((x_right - x_left) ** 2 + (y_right - y_left) ** 2) ** 0.5\n",
    "\t\t\tnew_span_lengths.append(span_length)\n",
    "\t\tnew_span_lengths.append(np.nan)\n",
    "\t\treturn np.array(new_span_lengths)\n",
    "\n"
   ]
  },
  {
   "cell_type": "code",
   "execution_count": 16,
   "id": "50e45ef1",
   "metadata": {},
   "outputs": [
    {
     "name": "stderr",
     "output_type": "stream",
     "text": [
      "/home/wangjer/Projects/mechaphlowers/src/mechaphlowers/core/geometry/points.py:60: RuntimeWarning: invalid value encountered in divide\n",
      "  rotation_axis_normalized = np.where(is_zero, default_z_axis, rotation_axis_reshaped/np.linalg.norm(rotation_axis_reshaped, axis=1)[:,np.newaxis])\n"
     ]
    },
    {
     "data": {
      "text/plain": [
       "array([[  0.        ,   0.        ,   0.        ],\n",
       "       [500.        ,   0.        ,   0.        ],\n",
       "       [853.55339059, 353.55339059,   0.        ],\n",
       "       [982.96291314, 836.51630374,   0.        ]])"
      ]
     },
     "execution_count": 16,
     "metadata": {},
     "output_type": "execute_result"
    }
   ],
   "source": [
    "rotation_model = LineAngleRotationQuaternion(section_array)\n",
    "rotation_model.frame.origin\n"
   ]
  },
  {
   "cell_type": "code",
   "execution_count": 14,
   "id": "39138622",
   "metadata": {},
   "outputs": [
    {
     "ename": "IndexError",
     "evalue": "index 2 is out of bounds for axis 1 with size 1",
     "output_type": "error",
     "traceback": [
      "\u001b[0;31m---------------------------------------------------------------------------\u001b[0m",
      "\u001b[0;31mIndexError\u001b[0m                                Traceback (most recent call last)",
      "Cell \u001b[0;32mIn[14], line 1\u001b[0m\n\u001b[0;32m----> 1\u001b[0m \u001b[43mrotation_model\u001b[49m\u001b[38;5;241;43m.\u001b[39;49m\u001b[43mattachment_coords_left\u001b[49m\u001b[43m(\u001b[49m\u001b[43m)\u001b[49m\n",
      "Cell \u001b[0;32mIn[12], line 47\u001b[0m, in \u001b[0;36mLineAngleRotationQuaternion.attachment_coords_left\u001b[0;34m(self)\u001b[0m\n\u001b[1;32m     45\u001b[0m rotation_axis \u001b[38;5;241m=\u001b[39m np\u001b[38;5;241m.\u001b[39marray([\u001b[38;5;241m0\u001b[39m,\u001b[38;5;241m0\u001b[39m,\u001b[38;5;241m1\u001b[39m])\n\u001b[1;32m     46\u001b[0m points_left\u001b[38;5;241m.\u001b[39mrotate_same_axis(\u001b[38;5;241m-\u001b[39mline_angle\u001b[38;5;241m/\u001b[39m\u001b[38;5;241m2\u001b[39m, rotation_axis)\n\u001b[0;32m---> 47\u001b[0m points_attachment \u001b[38;5;241m=\u001b[39m \u001b[38;5;28;43mself\u001b[39;49m\u001b[38;5;241;43m.\u001b[39;49m\u001b[43mcoord_with_suspension_insulators\u001b[49m\u001b[43m(\u001b[49m\u001b[43mpoints_left\u001b[49m\u001b[43m)\u001b[49m\n\u001b[1;32m     48\u001b[0m \u001b[38;5;28;01mreturn\u001b[39;00m points_attachment\n",
      "Cell \u001b[0;32mIn[12], line 85\u001b[0m, in \u001b[0;36mLineAngleRotationQuaternion.coord_with_suspension_insulators\u001b[0;34m(self, points_end_of_crossarm)\u001b[0m\n\u001b[1;32m     79\u001b[0m \u001b[38;5;28;01mdef\u001b[39;00m\u001b[38;5;250m \u001b[39m\u001b[38;5;21mcoord_with_suspension_insulators\u001b[39m(\n\u001b[1;32m     80\u001b[0m \t\u001b[38;5;28mself\u001b[39m,\n\u001b[1;32m     81\u001b[0m \tpoints_end_of_crossarm: Points,\n\u001b[1;32m     82\u001b[0m ) \u001b[38;5;241m-\u001b[39m\u001b[38;5;241m>\u001b[39m Points:\n\u001b[1;32m     83\u001b[0m \t\u001b[38;5;66;03m# we assure suspension chains are vertical for now\u001b[39;00m\n\u001b[1;32m     84\u001b[0m \t\u001b[38;5;66;03m# use translation instead\u001b[39;00m\n\u001b[0;32m---> 85\u001b[0m \t\u001b[43mpoints_end_of_crossarm\u001b[49m\u001b[38;5;241;43m.\u001b[39;49m\u001b[43mcoords\u001b[49m\u001b[43m[\u001b[49m\u001b[43m:\u001b[49m\u001b[43m,\u001b[49m\u001b[38;5;241;43m2\u001b[39;49m\u001b[43m]\u001b[49m \u001b[38;5;241m-\u001b[39m\u001b[38;5;241m=\u001b[39m \u001b[38;5;28mself\u001b[39m\u001b[38;5;241m.\u001b[39msection_array\u001b[38;5;241m.\u001b[39mdata\u001b[38;5;241m.\u001b[39minsulator_length\u001b[38;5;241m.\u001b[39mto_numpy()\n\u001b[1;32m     86\u001b[0m \t\u001b[38;5;28;01mreturn\u001b[39;00m points_end_of_crossarm\n",
      "\u001b[0;31mIndexError\u001b[0m: index 2 is out of bounds for axis 1 with size 1"
     ]
    }
   ],
   "source": [
    "rotation_model.attachment_coords_left()"
   ]
  },
  {
   "cell_type": "code",
   "execution_count": null,
   "id": "c6670d05",
   "metadata": {},
   "outputs": [
    {
     "data": {
      "text/plain": [
       "array([[         nan,  40.        ,  30.        ],\n",
       "       [515.30733729,  36.9551813 ,  35.        ],\n",
       "       [510.3527618 ,  38.63703305,  50.        ],\n",
       "       [480.        ,  34.64101615,  70.        ]])"
      ]
     },
     "execution_count": 197,
     "metadata": {},
     "output_type": "execute_result"
    }
   ],
   "source": [
    "rotation_model.attachment_coords_right()"
   ]
  },
  {
   "cell_type": "code",
   "execution_count": null,
   "id": "6a5e9975",
   "metadata": {},
   "outputs": [
    {
     "data": {
      "text/plain": [
       "array([515.31633274, 525.66278964, 490.36904384,          nan])"
      ]
     },
     "execution_count": 198,
     "metadata": {},
     "output_type": "execute_result"
    }
   ],
   "source": [
    "rotation_model.new_span_length()"
   ]
  }
 ],
 "metadata": {
  "kernelspec": {
   "display_name": ".venv",
   "language": "python",
   "name": "python3"
  },
  "language_info": {
   "codemirror_mode": {
    "name": "ipython",
    "version": 3
   },
   "file_extension": ".py",
   "mimetype": "text/x-python",
   "name": "python",
   "nbconvert_exporter": "python",
   "pygments_lexer": "ipython3",
   "version": "3.11.11"
  }
 },
 "nbformat": 4,
 "nbformat_minor": 5
}
